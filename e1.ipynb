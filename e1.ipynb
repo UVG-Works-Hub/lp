{
 "cells": [
  {
   "cell_type": "markdown",
   "metadata": {},
   "source": [
    "## <font size=4> *Modelación y Simulación*, 2024 </font>\n",
    "## <font size=3 color='gray'> Samuel Chamalé </font>"
   ]
  },
  {
   "cell_type": "markdown",
   "metadata": {},
   "source": [
    "# 1. (Modelo de Producción, Período único)"
   ]
  },
  {
   "cell_type": "code",
   "execution_count": 123,
   "metadata": {},
   "outputs": [],
   "source": [
    "# Add the packages if not already installed\n",
    "# import Pkg\n",
    "# Pkg.add(\"JuMP\")\n",
    "# Pkg.add(\"HiGHS\")"
   ]
  },
  {
   "cell_type": "code",
   "execution_count": 124,
   "metadata": {},
   "outputs": [],
   "source": [
    "using JuMP, Clp"
   ]
  },
  {
   "cell_type": "code",
   "execution_count": 125,
   "metadata": {},
   "outputs": [
    {
     "data": {
      "text/plain": [
       "500"
      ]
     },
     "metadata": {},
     "output_type": "display_data"
    }
   ],
   "source": [
    "d1 = 800\n",
    "d2 = 750\n",
    "d3 = 600\n",
    "d4 = 500"
   ]
  },
  {
   "cell_type": "code",
   "execution_count": 126,
   "metadata": {},
   "outputs": [
    {
     "data": {
      "text/plain": [
       "solve_model (generic function with 1 method)"
      ]
     },
     "metadata": {},
     "output_type": "display_data"
    }
   ],
   "source": [
    "function solve_model(is_integer::Bool)\n",
    "    # Define the model\n",
    "    model = Model()\n",
    "\n",
    "    # Decision variables\n",
    "    if is_integer\n",
    "        @variable(model, x1 >= 0, Int)  # Chamarras\n",
    "        @variable(model, x2 >= 0, Int)  # Relleno de plumas\n",
    "        @variable(model, x3 >= 0, Int)  # Pantalones\n",
    "        @variable(model, x4 >= 0, Int)  # Guantes\n",
    "    else\n",
    "        @variable(model, x1 >= 0)  # Chamarras\n",
    "        @variable(model, x2 >= 0)  # Relleno de plumas\n",
    "        @variable(model, x3 >= 0)  # Pantalones\n",
    "        @variable(model, x4 >= 0)  # Guantes\n",
    "    end\n",
    "\n",
    "    # Variables de holgura para la demanda no satisfecha\n",
    "    @variable(model, s1 >= 0)  # Chamarras\n",
    "    @variable(model, s2 >= 0)  # Relleno de plumas\n",
    "    @variable(model, s3 >= 0)  # Pantalones\n",
    "    @variable(model, s4 >= 0)  # Guantes\n",
    "\n",
    "    # Variables de holgura para la capacidad no utilizada\n",
    "    @variable(model, s5 >= 0)  # Corte\n",
    "    @variable(model, s6 >= 0)  # Aislamiento\n",
    "    @variable(model, s7 >= 0)  # Costura\n",
    "    @variable(model, s8 >= 0)  # Empaque\n",
    "\n",
    "    # Funcion objetivo\n",
    "    @objective(model, Max,\n",
    "        30x1 + 40x2 + 20x3 + 10x4 - 15s1 - 20s2 - 10s3 - 8s4\n",
    "    )\n",
    "\n",
    "    @constraint(model, x1 + s1 == d1)\n",
    "    @constraint(model, x2 + s2 == d2)\n",
    "    @constraint(model, x3 + s3 == d3)\n",
    "    @constraint(model, x4 + s4 == d4)\n",
    "\n",
    "    @constraint(model, 0.30x1 + 0.30x2 + 0.25x3 + 0.15x4 + s5 == 1000)  # Corte\n",
    "    @constraint(model, 0.25x1 + 0.35x2 + 0.30x3 + 0.10x4 + s6 == 1000)  # Aislamiento\n",
    "    @constraint(model, 0.45x1 + 0.50x2 + 0.40x3 + 0.22x4 + s7 == 1000)  # Costura\n",
    "    @constraint(model, 0.15x1 + 0.15x2 + 0.10x3 + 0.05x4 + s8 == 1000)  # Empaque\n",
    "\n",
    "    set_optimizer(model, HiGHS.Optimizer)\n",
    "\n",
    "    optimize!(model)\n",
    "\n",
    "    println(is_integer ? \"\\nCon restricciones de enteros:\" : \"\\nSin restricciones de enteros:\")\n",
    "    println(\"Chamarras: \", value(x1))\n",
    "    println(\"Relleno de plumas: \", value(x2))\n",
    "    println(\"Pantalones: \", value(x3))\n",
    "    println(\"Guantes: \", value(x4))\n",
    "    println(\"\\nFaltantes en la producción:\")\n",
    "    println(\"Chamarras faltantes: \", value(s1))\n",
    "    println(\"Relleno de plumas faltantes: \", value(s2))\n",
    "    println(\"Pantalones faltantes: \", value(s3))\n",
    "    println(\"Guantes faltantes: \", value(s4))\n",
    "    println(\"\\nCapacidad no utilizada (horas):\")\n",
    "    println(\"Corte: \", value(s5))\n",
    "    println(\"Aislamiento: \", value(s6))\n",
    "    println(\"Costura: \", value(s7))\n",
    "    println(\"Empaque: \", value(s8))\n",
    "    println(\"\\nUtilidad Total: \\$\", objective_value(model))\n",
    "end"
   ]
  },
  {
   "cell_type": "code",
   "execution_count": 127,
   "metadata": {},
   "outputs": [
    {
     "name": "stdout",
     "output_type": "stream",
     "text": [
      "Running HiGHS 1.7.2 (git hash: 5ce7a2753): Copyright (c) 2024 HiGHS under MIT licence terms\n",
      "Coefficient ranges:\n",
      "  Matrix [5e-02, 1e+00]\n",
      "  Cost   [8e+00, 4e+01]\n",
      "  Bound  [0e+00, 0e+00]\n",
      "  RHS    [5e+02, 1e+03]\n",
      "Presolving model\n",
      "1 rows, 5 cols, 5 nonzeros  0s\n",
      "1 rows, 5 cols, 5 nonzeros  0s\n",
      "Presolve : Reductions: rows 1(-7); columns 5(-7); elements 5(-23)\n",
      "Solving the presolved LP\n",
      "Using EKK dual simplex solver - serial\n",
      "  Iteration        Objective     Infeasibilities num(sum)\n",
      "          0     0.0000000000e+00 Ph1: 0(0) 0s\n",
      "          1    -6.4625000000e+04 Pr: 0(0) 0s\n",
      "Solving the original LP from the solution after postsolve\n",
      "Model   status      : Optimal\n",
      "Simplex   iterations: 1\n",
      "Objective value     :  6.4625000000e+04\n",
      "HiGHS run time      :          0.00\n",
      "\n",
      " Sin restricciones de enteros:\n",
      "Chamarras: 800.0\n",
      "Relleno de plumas: 750.0\n",
      "Pantalones: 387.5\n",
      "Guantes: 500.0\n",
      "\n",
      "Faltantes en la producción:\n",
      "Chamarras faltantes: 0.0\n",
      "Relleno de plumas faltantes: 0.0\n",
      "Pantalones faltantes: 212.5\n",
      "Guantes faltantes: 0.0\n",
      "\n",
      "Capacidad no utilizada (horas):\n",
      "Corte: 363.125\n",
      "Aislamiento: 371.25\n",
      "Costura: 0.0\n",
      "Empaque: 703.75\n",
      "\n",
      "Utilidad Total: $64625.0\n"
     ]
    }
   ],
   "source": [
    "solve_model(false)"
   ]
  },
  {
   "cell_type": "code",
   "execution_count": 128,
   "metadata": {},
   "outputs": [
    {
     "name": "stdout",
     "output_type": "stream",
     "text": [
      "Running HiGHS 1.7.2 (git hash: 5ce7a2753): Copyright (c) 2024 HiGHS under MIT licence terms\n",
      "Coefficient ranges:\n",
      "  Matrix [5e-02, 1e+00]\n",
      "  Cost   [8e+00, 4e+01]\n",
      "  Bound  [0e+00, 0e+00]\n",
      "  RHS    [5e+02, 1e+03]\n",
      "Presolving model\n",
      "1 rows, 5 cols, 5 nonzeros  0s\n",
      "1 rows, 5 cols, 5 nonzeros  0s\n",
      "Objective function is integral with scale 0.333333\n",
      "\n",
      "Solving MIP model with:\n",
      "   1 rows\n",
      "   5 cols (0 binary, 4 integer, 1 implied int., 0 continuous)\n",
      "   5 nonzeros\n",
      "\n",
      "        Nodes      |    B&B Tree     |            Objective Bounds              |  Dynamic Constraints |       Work      \n",
      "     Proc. InQueue |  Leaves   Expl. | BestBound       BestSol              Gap |   Cuts   InLp Confl. | LpIters     Time\n",
      "\n",
      "         0       0         0   0.00%   71000           -inf                 inf        0      0      0         0     0.0s\n",
      " R       0       0         0   0.00%   64625           64595              0.05%        0      0      0         1     0.0s\n",
      " C       0       0         0   0.00%   64622           64610              0.02%        7      2      0         3     0.0s\n",
      "\n",
      "Solving report\n",
      "  Status            Optimal\n",
      "  Primal bound      64622\n",
      "  Dual bound        64622\n",
      "  Gap               0% (tolerance: 0.01%)\n",
      "  Solution status   feasible\n",
      "                    64622 (objective)\n",
      "                    0 (bound viol.)\n",
      "                    0 (int. viol.)\n",
      "                    0 (row viol.)\n",
      "  Timing            0.01 (total)\n",
      "                    0.00 (presolve)\n",
      "                    0.00 (postsolve)\n",
      "  Nodes             1\n",
      "  LP iterations     3 (total)\n",
      "                    0 (strong br.)\n",
      "                    2 (separation)\n",
      "                    0 (heuristics)\n",
      "\n",
      " Con restricciones de enteros:\n",
      "Chamarras: 800.0\n",
      "Relleno de plumas: 750.0\n",
      "Pantalones: 388.0\n",
      "Guantes: 499.0\n",
      "\n",
      "Faltantes en la producción:\n",
      "Chamarras faltantes: 0.0\n",
      "Relleno de plumas faltantes: 0.0\n",
      "Pantalones faltantes: 212.0\n",
      "Guantes faltantes: 1.0\n",
      "\n",
      "Capacidad no utilizada (horas):\n",
      "Corte: 363.15000000000003\n",
      "Aislamiento: 371.20000000000005\n",
      "Costura: 0.02000000000000057\n",
      "Empaque: 703.75\n",
      "\n",
      "Utilidad Total: $64622.0\n"
     ]
    }
   ],
   "source": [
    "solve_model(true)"
   ]
  }
 ],
 "metadata": {
  "kernelspec": {
   "display_name": "Julia 1.10.4",
   "language": "julia",
   "name": "julia-1.10"
  },
  "language_info": {
   "file_extension": ".jl",
   "mimetype": "application/julia",
   "name": "julia",
   "version": "1.10.4"
  }
 },
 "nbformat": 4,
 "nbformat_minor": 2
}
