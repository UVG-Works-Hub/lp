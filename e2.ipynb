{
 "cells": [
  {
   "cell_type": "markdown",
   "metadata": {},
   "source": [
    "## <font size=4> *Modelación y Simulación*, 2024 </font>\n",
    "## <font size=3 color='gray'> Adrian Rodríguez</font>"
   ]
  },
  {
   "cell_type": "code",
   "execution_count": 14,
   "metadata": {},
   "outputs": [
    {
     "name": "stderr",
     "output_type": "stream",
     "text": [
      "\u001b[32m\u001b[1m   Resolving\u001b[22m\u001b[39m package versions...\n",
      "\u001b[32m\u001b[1m  No Changes\u001b[22m\u001b[39m to `~/.julia/environments/v1.10/Project.toml`\n",
      "\u001b[32m\u001b[1m  No Changes\u001b[22m\u001b[39m to `~/.julia/environments/v1.10/Manifest.toml`\n",
      "\u001b[32m\u001b[1m   Resolving\u001b[22m\u001b[39m package versions...\n",
      "\u001b[32m\u001b[1m  No Changes\u001b[22m\u001b[39m to `~/.julia/environments/v1.10/Project.toml`\n",
      "\u001b[32m\u001b[1m  No Changes\u001b[22m\u001b[39m to `~/.julia/environments/v1.10/Manifest.toml`\n",
      "\u001b[32m\u001b[1m   Resolving\u001b[22m\u001b[39m package versions...\n",
      "\u001b[32m\u001b[1m  No Changes\u001b[22m\u001b[39m to `~/.julia/environments/v1.10/Project.toml`\n",
      "\u001b[32m\u001b[1m  No Changes\u001b[22m\u001b[39m to `~/.julia/environments/v1.10/Manifest.toml`\n"
     ]
    }
   ],
   "source": [
    "import Pkg\n",
    "Pkg.add(\"JuMP\")\n",
    "Pkg.add(\"HiGHS\")\n",
    "Pkg.add(\"DataFrames\")"
   ]
  },
  {
   "cell_type": "markdown",
   "metadata": {},
   "source": []
  },
  {
   "cell_type": "code",
   "execution_count": 15,
   "metadata": {},
   "outputs": [
    {
     "name": "stdout",
     "output_type": "stream",
     "text": [
      "Running HiGHS 1.7.2 (git hash: 5ce7a2753): Copyright (c) 2024 HiGHS under MIT licence terms\n",
      "Coefficient ranges:\n",
      "  Matrix [1e+00, 1e+00]\n",
      "  Cost   [8e+00, 6e+01]\n",
      "  Bound  [0e+00, 0e+00]\n",
      "  RHS    [1e+02, 2e+02]\n",
      "Solving LP without presolve, or with basis, or unconstrained\n",
      "Using EKK dual simplex solver - serial\n",
      "  Iteration        Objective     Infeasibilities num(sum)\n",
      "          0     0.0000000000e+00 Pr: 6(1230) 0s\n",
      "         13     6.1795000000e+04 Pr: 0(0) 0s\n",
      "Model   status      : Optimal\n",
      "Simplex   iterations: 13\n",
      "Objective value     :  6.1795000000e+04\n",
      "HiGHS run time      :          0.00\n"
     ]
    }
   ],
   "source": [
    "using JuMP\n",
    "using HiGHS\n",
    "using DataFrames\n",
    "\n",
    "months = 1:6\n",
    "demand = [180, 250, 190, 140, 220, 250]\n",
    "production_cost = [50, 45, 55, 52, 48, 50]\n",
    "inventory_cost = [8, 10, 10, 10, 8, 8]\n",
    "capacity = 225\n",
    "\n",
    "\n",
    "model = Model(HiGHS.Optimizer)\n",
    "\n",
    "@variable(model, x[months] >= 0, start=0)  # x[m] = la cantidad de ventanas producidas en el mes m\n",
    "@variable(model, I[months] >= 0, start=0)  # I[m] = inventario al final del mes m\n",
    "\n",
    "# Capacidad de producción\n",
    "@constraint(model, [m in months], x[m] <= capacity)\n",
    "\n",
    "# Balance de inventario\n",
    "@constraint(model, I[1] == x[1] - demand[1])\n",
    "@constraint(model, [m in 2:6], I[m] == I[m-1] + x[m] - demand[m])  \n",
    "\n",
    "# Minimizar el costo total, que es la suma de los costos de producción y de inventario\n",
    "@objective(model, Min, \n",
    "    sum(production_cost[m] * x[m] + inventory_cost[m] * I[m] for m in months)\n",
    ")\n",
    "\n",
    "\n",
    "optimize!(model)\n"
   ]
  },
  {
   "cell_type": "code",
   "execution_count": 16,
   "metadata": {},
   "outputs": [
    {
     "name": "stdout",
     "output_type": "stream",
     "text": [
      "Optimal solution found.\n",
      "\n",
      "\u001b[1m6×6 DataFrame\u001b[0m\n",
      "\u001b[1m Row \u001b[0m│\u001b[1m Month \u001b[0m\u001b[1m Production \u001b[0m\u001b[1m Inventory \u001b[0m\u001b[1m Optimal_Production_Cost \u001b[0m\u001b[1m Direct_Production_Cost \u001b[0m\u001b[1m Difference \u001b[0m\n",
      "     │\u001b[90m Int64 \u001b[0m\u001b[90m Float64    \u001b[0m\u001b[90m Float64   \u001b[0m\u001b[90m Float64                 \u001b[0m\u001b[90m Int64                  \u001b[0m\u001b[90m Float64    \u001b[0m\n",
      "─────┼───────────────────────────────────────────────────────────────────────────────────────────\n",
      "   1 │     1       205.0       25.0                  10250.0                    9000      1250.0\n",
      "   2 │     2       225.0        0.0                  10125.0                   11250     -1125.0\n",
      "   3 │     3       190.0        0.0                  10450.0                   10450         0.0\n",
      "   4 │     4       160.0       20.0                   8320.0                    7280      1040.0\n",
      "   5 │     5       225.0       25.0                  10800.0                   10560       240.0\n",
      "   6 │     6       225.0        0.0                  11250.0                   12500     -1250.0\n",
      "\n",
      "Total cost: $61795.0\n",
      "Naive production cost: $61040\n",
      "Cost difference: $155.0\n"
     ]
    }
   ],
   "source": [
    "status = termination_status(model)\n",
    "\n",
    "if status == MOI.OPTIMAL\n",
    "    println(\"Optimal solution found.\\n\")\n",
    "    \n",
    "    production_values = collect(value.(x))\n",
    "    inventory_values = collect(value.(I))\n",
    "    \n",
    "    direct_production_cost = [demand[i] * production_cost[i] for i in months] # asumiendo que se puede producir exactamente la demanda\n",
    "    optimal_production_cost = [production_values[i] * production_cost[i] for i in months]\n",
    "\n",
    "    results = DataFrame(\n",
    "        :Month => months,\n",
    "        :Production => production_values,\n",
    "        :Inventory => inventory_values,\n",
    "        :Optimal_Production_Cost =>  optimal_production_cost,\n",
    "        :Direct_Production_Cost => direct_production_cost,\n",
    "        :Difference =>   optimal_production_cost .- direct_production_cost\n",
    "    )\n",
    "\n",
    "    println(results)\n",
    "    println(\"\\nTotal cost: \\$\", objective_value(model))\n",
    "    println(\"Naive production cost: \\$\", sum(direct_production_cost))\n",
    "    println(\"Cost difference: \\$\", sum(results.Difference))\n",
    "    \n",
    "else\n",
    "    println(\"Optimization was not successful. Status: \", status)\n",
    "end\n"
   ]
  },
  {
   "cell_type": "markdown",
   "metadata": {},
   "source": [
    "### Versión con restricciones enteras"
   ]
  },
  {
   "cell_type": "code",
   "execution_count": 17,
   "metadata": {},
   "outputs": [
    {
     "name": "stdout",
     "output_type": "stream",
     "text": [
      "Running HiGHS 1.7.2 (git hash: 5ce7a2753): Copyright (c) 2024 HiGHS under MIT licence terms\n",
      "Coefficient ranges:\n",
      "  Matrix [1e+00, 1e+00]\n",
      "  Cost   [8e+00, 6e+01]\n",
      "  Bound  [0e+00, 0e+00]\n",
      "  RHS    [1e+02, 2e+02]\n",
      "Presolving model\n",
      "5 rows, 11 cols, 15 nonzeros  0s\n",
      "3 rows, 9 cols, 11 nonzeros  0s\n",
      "1 rows, 3 cols, 3 nonzeros  0s\n",
      "0 rows, 1 cols, 0 nonzeros  0s\n",
      "0 rows, 0 cols, 0 nonzeros  0s\n",
      "Presolve: Optimal\n",
      "\n",
      "Solving report\n",
      "  Status            Optimal\n",
      "  Primal bound      61795\n",
      "  Dual bound        61795\n",
      "  Gap               0% (tolerance: 0.01%)\n",
      "  Solution status   feasible\n",
      "                    61795 (objective)\n",
      "                    0 (bound viol.)\n",
      "                    0 (int. viol.)\n",
      "                    0 (row viol.)\n",
      "  Timing            0.00 (total)\n",
      "                    0.00 (presolve)\n",
      "                    0.00 (postsolve)\n",
      "  Nodes             0\n",
      "  LP iterations     0 (total)\n",
      "                    0 (strong br.)\n",
      "                    0 (separation)\n",
      "                    0 (heuristics)\n"
     ]
    }
   ],
   "source": [
    "model_integer = Model(HiGHS.Optimizer)\n",
    "\n",
    "@variable(model_integer, x[months] >= 0, Int)  # Producción entera en cada mes\n",
    "@variable(model_integer, I[months] >= 0, Int)  # Inventario entero al final de cada mes\n",
    "\n",
    "@constraint(model_integer, [m in months], x[m] <= capacity)\n",
    "\n",
    "@constraint(model_integer, I[1] == x[1] - demand[1])\n",
    "@constraint(model_integer, [m in 2:6], I[m] == I[m-1] + x[m] - demand[m])\n",
    "\n",
    "@objective(model_integer, Min, \n",
    "    sum(production_cost[m] * x[m] + inventory_cost[m] * I[m] for m in months)\n",
    ")\n",
    "\n",
    "optimize!(model_integer)\n",
    "\n"
   ]
  },
  {
   "cell_type": "code",
   "execution_count": 19,
   "metadata": {},
   "outputs": [
    {
     "name": "stdout",
     "output_type": "stream",
     "text": [
      "\n",
      "Solución óptima encontrada (Variables Enteras).\n",
      "\n",
      "\u001b[1m6×5 DataFrame\u001b[0m\n",
      "\u001b[1m Row \u001b[0m│\u001b[1m Month \u001b[0m\u001b[1m Production \u001b[0m\u001b[1m Inventory \u001b[0m\u001b[1m Optimal_Production_Cost \u001b[0m\u001b[1m Direct_Production_Cost \u001b[0m\n",
      "     │\u001b[90m Int64 \u001b[0m\u001b[90m Float64    \u001b[0m\u001b[90m Float64   \u001b[0m\u001b[90m Float64                 \u001b[0m\u001b[90m Int64                  \u001b[0m\n",
      "─────┼───────────────────────────────────────────────────────────────────────────────\n",
      "   1 │     1       205.0       25.0                  10250.0                    9000\n",
      "   2 │     2       225.0        0.0                  10125.0                   11250\n",
      "   3 │     3       190.0        0.0                  10450.0                   10450\n",
      "   4 │     4       160.0       20.0                   8320.0                    7280\n",
      "   5 │     5       225.0       25.0                  10800.0                   10560\n",
      "   6 │     6       225.0        0.0                  11250.0                   12500\n",
      "\n",
      "Total cost: $61795.0\n",
      "Naive production cost: $61040\n",
      "Cost difference: $155.0\n"
     ]
    }
   ],
   "source": [
    "status_integer = termination_status(model_integer)\n",
    "\n",
    "if status_integer == MOI.OPTIMAL\n",
    "    println(\"\\nSolución óptima encontrada (Variables Enteras).\\n\")\n",
    "    \n",
    "    production_values_int = [value(x[m]) for m in months]\n",
    "    inventory_values_int = [value(I[m]) for m in months]\n",
    "    \n",
    "    direct_production_cost_int = demand .* production_cost\n",
    "    \n",
    "    results_integer = DataFrame(\n",
    "        Month = collect(months),\n",
    "        Production = production_values_int,\n",
    "        Inventory = inventory_values_int,\n",
    "        Optimal_Production_Cost = production_values_int .* production_cost,\n",
    "        Direct_Production_Cost = direct_production_cost_int\n",
    "    )\n",
    "    \n",
    "    println(results_integer)\n",
    "    println(\"\\nTotal cost: \\$\", objective_value(model))\n",
    "    println(\"Naive production cost: \\$\", sum(direct_production_cost))\n",
    "    println(\"Cost difference: \\$\", sum(results.Difference))\n",
    "    \n",
    "else\n",
    "    println(\"La optimización no fue exitosa (Entero). Estado: \", status_integer)\n",
    "end"
   ]
  }
 ],
 "metadata": {
  "kernelspec": {
   "display_name": "Julia 1.10.5",
   "language": "julia",
   "name": "julia-1.10"
  },
  "language_info": {
   "file_extension": ".jl",
   "mimetype": "application/julia",
   "name": "julia",
   "version": "1.10.5"
  }
 },
 "nbformat": 4,
 "nbformat_minor": 2
}
