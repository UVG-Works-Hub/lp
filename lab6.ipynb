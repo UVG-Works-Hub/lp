{
 "cells": [
  {
   "cell_type": "markdown",
   "metadata": {},
   "source": [
    "# Lab 06 - Programación Lineal\n",
    "#### **Modelación y Simulación Sección 10**\n",
    "\n",
    "~ Samuel Chamale 21885\n",
    "\n",
    "~ Adrian Rodriguez 21691\n",
    "\n",
    "~ Daniel Gomez 21429"
   ]
  },
  {
   "cell_type": "markdown",
   "metadata": {},
   "source": [
    "# 1. (Modelo de Producción, Período único)"
   ]
  },
  {
   "cell_type": "code",
   "execution_count": 1,
   "metadata": {},
   "outputs": [],
   "source": [
    "import Pkg\n",
    "Pkg.add(\"JuMP\")\n",
    "Pkg.add(\"HiGHS\")"
   ]
  },
  {
   "cell_type": "code",
   "execution_count": 2,
   "metadata": {},
   "outputs": [],
   "source": [
    "using JuMP, HiGHS"
   ]
  },
  {
   "cell_type": "code",
   "execution_count": 3,
   "metadata": {},
   "outputs": [
    {
     "data": {
      "text/plain": [
       "solve_model (generic function with 1 method)"
      ]
     },
     "metadata": {},
     "output_type": "display_data"
    }
   ],
   "source": [
    "function solve_model(is_integer::Bool)\n",
    "    # Define the model\n",
    "    model = Model()\n",
    "\n",
    "    # Decision variables\n",
    "    if is_integer\n",
    "        @variable(model, x1 >= 0, Int)  # Chamarras\n",
    "        @variable(model, x2 >= 0, Int)  # Relleno de plumas\n",
    "        @variable(model, x3 >= 0, Int)  # Pantalones\n",
    "        @variable(model, x4 >= 0, Int)  # Guantes\n",
    "    else\n",
    "        @variable(model, x1 >= 0)  # Chamarras\n",
    "        @variable(model, x2 >= 0)  # Relleno de plumas\n",
    "        @variable(model, x3 >= 0)  # Pantalones\n",
    "        @variable(model, x4 >= 0)  # Guantes\n",
    "    end\n",
    "\n",
    "    # Variables de holgura para la demanda no satisfecha\n",
    "    @variable(model, s1 >= 0)  # Chamarras\n",
    "    @variable(model, s2 >= 0)  # Relleno de plumas\n",
    "    @variable(model, s3 >= 0)  # Pantalones\n",
    "    @variable(model, s4 >= 0)  # Guantes\n",
    "\n",
    "    # Variables de holgura para la capacidad no utilizada\n",
    "    @variable(model, s5 >= 0)  # Corte\n",
    "    @variable(model, s6 >= 0)  # Aislamiento\n",
    "    @variable(model, s7 >= 0)  # Costura\n",
    "    @variable(model, s8 >= 0)  # Empaque\n",
    "\n",
    "    # Funcion objetivo\n",
    "    @objective(model, Max,\n",
    "        30x1 + 40x2 + 20x3 + 10x4 - 15s1 - 20s2 - 10s3 - 8s4\n",
    "    )\n",
    "\n",
    "    # Restricciones de demanda\n",
    "    @constraint(model, x1 + s1 == 800)\n",
    "    @constraint(model, x2 + s2 == 750)\n",
    "    @constraint(model, x3 + s3 == 600)\n",
    "    @constraint(model, x4 + s4 == 500)\n",
    "\n",
    "    # Restricciones de capacidad\n",
    "    @constraint(model, 0.30x1 + 0.30x2 + 0.25x3 + 0.15x4 + s5 == 1000)  # Corte\n",
    "    @constraint(model, 0.25x1 + 0.35x2 + 0.30x3 + 0.10x4 + s6 == 1000)  # Aislamiento\n",
    "    @constraint(model, 0.45x1 + 0.50x2 + 0.40x3 + 0.22x4 + s7 == 1000)  # Costura\n",
    "    @constraint(model, 0.15x1 + 0.15x2 + 0.10x3 + 0.05x4 + s8 == 1000)  # Empaque\n",
    "\n",
    "    set_optimizer(model, HiGHS.Optimizer)\n",
    "\n",
    "    optimize!(model)\n",
    "\n",
    "    println(is_integer ? \"\\nCon restricciones de enteros:\" : \"\\nSin restricciones de enteros:\")\n",
    "    println(\"Chamarras: \", value(x1))\n",
    "    println(\"Relleno de plumas: \", value(x2))\n",
    "    println(\"Pantalones: \", value(x3))\n",
    "    println(\"Guantes: \", value(x4))\n",
    "    println(\"\\nFaltantes en la producción:\")\n",
    "    println(\"Chamarras faltantes: \", value(s1))\n",
    "    println(\"Relleno de plumas faltantes: \", value(s2))\n",
    "    println(\"Pantalones faltantes: \", value(s3))\n",
    "    println(\"Guantes faltantes: \", value(s4))\n",
    "    println(\"\\nCapacidad no utilizada (horas):\")\n",
    "    println(\"Corte: \", value(s5))\n",
    "    println(\"Aislamiento: \", value(s6))\n",
    "    println(\"Costura: \", value(s7))\n",
    "    println(\"Empaque: \", value(s8))\n",
    "    println(\"\\nUtilidad Total: \\$\", objective_value(model))\n",
    "end"
   ]
  },
  {
   "cell_type": "code",
   "execution_count": 4,
   "metadata": {},
   "outputs": [
    {
     "name": "stdout",
     "output_type": "stream",
     "text": [
      "Running HiGHS 1.7.2 (git hash: 5ce7a2753): Copyright (c) 2024 HiGHS under MIT licence terms\n",
      "Coefficient ranges:\n",
      "  Matrix [5e-02, 1e+00]\n",
      "  Cost   [8e+00, 4e+01]\n",
      "  Bound  [0e+00, 0e+00]\n",
      "  RHS    [5e+02, 1e+03]\n",
      "Presolving model\n",
      "1 rows, 5 cols, 5 nonzeros  0s\n",
      "1 rows, 5 cols, 5 nonzeros  0s\n",
      "Presolve : Reductions: rows 1(-7); columns 5(-7); elements 5(-23)\n",
      "Solving the presolved LP\n",
      "Using EKK dual simplex solver - serial\n",
      "  Iteration        Objective     Infeasibilities num(sum)\n",
      "          0     0.0000000000e+00 Ph1: 0(0) 0s\n",
      "          1    -6.4625000000e+04 Pr: 0(0) 0s\n",
      "Solving the original LP from the solution after postsolve\n",
      "Model   status      : Optimal\n",
      "Simplex   iterations: 1\n",
      "Objective value     :  6.4625000000e+04\n",
      "HiGHS run time      :          0.01\n",
      "\n",
      "Sin restricciones de enteros:\n",
      "Chamarras: 800.0\n",
      "Relleno de plumas: 750.0\n",
      "Pantalones: 387.5\n",
      "Guantes: 500.0\n",
      "\n",
      "Faltantes en la producción:\n",
      "Chamarras faltantes: 0.0\n",
      "Relleno de plumas faltantes: 0.0\n",
      "Pantalones faltantes: 212.5\n",
      "Guantes faltantes: 0.0\n",
      "\n",
      "Capacidad no utilizada (horas):\n",
      "Corte: 363.125\n",
      "Aislamiento: 371.25\n",
      "Costura: 0.0\n",
      "Empaque: 703.75\n",
      "\n",
      "Utilidad Total: $64625.0\n"
     ]
    }
   ],
   "source": [
    "solve_model(false)"
   ]
  },
  {
   "cell_type": "markdown",
   "metadata": {},
   "source": [
    "### Versión con restricciones enteras"
   ]
  },
  {
   "cell_type": "code",
   "execution_count": 5,
   "metadata": {},
   "outputs": [
    {
     "name": "stdout",
     "output_type": "stream",
     "text": [
      "Running HiGHS 1.7.2 (git hash: 5ce7a2753): Copyright (c) 2024 HiGHS under MIT licence terms\n",
      "Coefficient ranges:\n",
      "  Matrix [5e-02, 1e+00]\n",
      "  Cost   [8e+00, 4e+01]\n",
      "  Bound  [0e+00, 0e+00]\n",
      "  RHS    [5e+02, 1e+03]\n",
      "Presolving model\n",
      "1 rows, 5 cols, 5 nonzeros  0s\n",
      "1 rows, 5 cols, 5 nonzeros  0s\n",
      "Objective function is integral with scale 0.333333\n",
      "\n",
      "Solving MIP model with:\n",
      "   1 rows\n",
      "   5 cols (0 binary, 4 integer, 1 implied int., 0 continuous)\n",
      "   5 nonzeros\n",
      "\n",
      "        Nodes      |    B&B Tree     |            Objective Bounds              |  Dynamic Constraints |       Work      \n",
      "     Proc. InQueue |  Leaves   Expl. | BestBound       BestSol              Gap |   Cuts   InLp Confl. | LpIters     Time\n",
      "\n",
      "         0       0         0   0.00%   71000           -inf                 inf        0      0      0         0     0.0s\n",
      " R       0       0         0   0.00%   64625           64595              0.05%        0      0      0         1     0.0s\n",
      " C       0       0         0   0.00%   64622           64610              0.02%        7      2      0         3     0.0s\n",
      "\n",
      "Solving report\n",
      "  Status            Optimal\n",
      "  Primal bound      64622\n",
      "  Dual bound        64622\n",
      "  Gap               0% (tolerance: 0.01%)\n",
      "  Solution status   feasible\n",
      "                    64622 (objective)\n",
      "                    0 (bound viol.)\n",
      "                    0 (int. viol.)\n",
      "                    0 (row viol.)\n",
      "  Timing            0.01 (total)\n",
      "                    0.00 (presolve)\n",
      "                    0.00 (postsolve)\n",
      "  Nodes             1\n",
      "  LP iterations     3 (total)\n",
      "                    0 (strong br.)\n",
      "                    2 (separation)\n",
      "                    0 (heuristics)\n",
      "\n",
      "Con restricciones de enteros:\n",
      "Chamarras: 800.0\n",
      "Relleno de plumas: 750.0\n",
      "Pantalones: 388.0\n",
      "Guantes: 499.0\n",
      "\n",
      "Faltantes en la producción:\n",
      "Chamarras faltantes: 0.0\n",
      "Relleno de plumas faltantes: 0.0\n",
      "Pantalones faltantes: 212.0\n",
      "Guantes faltantes: 1.0\n",
      "\n",
      "Capacidad no utilizada (horas):\n",
      "Corte: 363.15000000000003\n",
      "Aislamiento: 371.20000000000005\n",
      "Costura: 0.02000000000000057\n",
      "Empaque: 703.75\n",
      "\n",
      "Utilidad Total: $64622.0\n"
     ]
    }
   ],
   "source": [
    "solve_model(true)"
   ]
  },
  {
   "cell_type": "markdown",
   "metadata": {},
   "source": [
    "# 2. (Modelo de Producción, Períodos múltiples)"
   ]
  },
  {
   "cell_type": "code",
   "execution_count": 6,
   "metadata": {},
   "outputs": [
    {
     "name": "stderr",
     "output_type": "stream",
     "text": [
      "\u001b[32m\u001b[1m    Updating\u001b[22m\u001b[39m registry at `C:\\Users\\chama\\.julia\\registries\\General.toml`\n",
      "\u001b[32m\u001b[1m   Resolving\u001b[22m\u001b[39m package versions...\n",
      "\u001b[32m\u001b[1m  No Changes\u001b[22m\u001b[39m to `C:\\Users\\chama\\.julia\\environments\\v1.10\\Project.toml`\n",
      "\u001b[32m\u001b[1m  No Changes\u001b[22m\u001b[39m to `C:\\Users\\chama\\.julia\\environments\\v1.10\\Manifest.toml`\n",
      "\u001b[32m\u001b[1m   Resolving\u001b[22m\u001b[39m package versions...\n",
      "\u001b[32m\u001b[1m  No Changes\u001b[22m\u001b[39m to `C:\\Users\\chama\\.julia\\environments\\v1.10\\Project.toml`\n",
      "\u001b[32m\u001b[1m  No Changes\u001b[22m\u001b[39m to `C:\\Users\\chama\\.julia\\environments\\v1.10\\Manifest.toml`\n",
      "\u001b[32m\u001b[1m   Resolving\u001b[22m\u001b[39m package versions...\n",
      "\u001b[32m\u001b[1m  No Changes\u001b[22m\u001b[39m to `C:\\Users\\chama\\.julia\\environments\\v1.10\\Project.toml`\n",
      "\u001b[32m\u001b[1m  No Changes\u001b[22m\u001b[39m to `C:\\Users\\chama\\.julia\\environments\\v1.10\\Manifest.toml`\n"
     ]
    }
   ],
   "source": [
    "import Pkg\n",
    "Pkg.add(\"JuMP\")\n",
    "Pkg.add(\"HiGHS\")\n",
    "Pkg.add(\"DataFrames\")"
   ]
  },
  {
   "cell_type": "code",
   "execution_count": 7,
   "metadata": {},
   "outputs": [],
   "source": [
    "using JuMP\n",
    "using HiGHS\n",
    "using DataFrames"
   ]
  },
  {
   "cell_type": "code",
   "execution_count": 8,
   "metadata": {},
   "outputs": [
    {
     "name": "stdout",
     "output_type": "stream",
     "text": [
      "Running HiGHS 1.7.2 (git hash: 5ce7a2753): Copyright (c) 2024 HiGHS under MIT licence terms\n",
      "Coefficient ranges:\n",
      "  Matrix [1e+00, 1e+00]\n",
      "  Cost   [8e+00, 6e+01]\n",
      "  Bound  [0e+00, 0e+00]\n",
      "  RHS    [1e+02, 2e+02]\n",
      "Solving LP without presolve, or with basis, or unconstrained\n",
      "Using EKK dual simplex solver - serial\n",
      "  Iteration        Objective     Infeasibilities num(sum)\n",
      "          0     0.0000000000e+00 Pr: 6(1230) 0s\n",
      "         13     6.1795000000e+04 Pr: 0(0) 0s\n",
      "Model   status      : Optimal\n",
      "Simplex   iterations: 13\n",
      "Objective value     :  6.1795000000e+04\n",
      "HiGHS run time      :          0.00\n"
     ]
    }
   ],
   "source": [
    "months = 1:6\n",
    "demand = [180, 250, 190, 140, 220, 250]\n",
    "production_cost = [50, 45, 55, 52, 48, 50]\n",
    "inventory_cost = [8, 10, 10, 10, 8, 8]\n",
    "capacity = 225\n",
    "\n",
    "\n",
    "model = Model(HiGHS.Optimizer)\n",
    "\n",
    "@variable(model, x[months] >= 0, start=0)  # x[m] = la cantidad de ventanas producidas en el mes m\n",
    "@variable(model, I[months] >= 0, start=0)  # I[m] = inventario al final del mes m\n",
    "\n",
    "# Capacidad de producción\n",
    "@constraint(model, [m in months], x[m] <= capacity)\n",
    "\n",
    "# Balance de inventario\n",
    "@constraint(model, I[1] == x[1] - demand[1])\n",
    "@constraint(model, [m in 2:6], I[m] == I[m-1] + x[m] - demand[m])\n",
    "\n",
    "# Minimizar el costo total, que es la suma de los costos de producción y de inventario\n",
    "@objective(model, Min,\n",
    "    sum(production_cost[m] * x[m] + inventory_cost[m] * I[m] for m in months)\n",
    ")\n",
    "\n",
    "\n",
    "optimize!(model)"
   ]
  },
  {
   "cell_type": "code",
   "execution_count": 9,
   "metadata": {},
   "outputs": [
    {
     "name": "stdout",
     "output_type": "stream",
     "text": [
      "Optimal solution found.\n",
      "\n",
      "\u001b[1m6×6 DataFrame\u001b[0m\n",
      "\u001b[1m Row \u001b[0m│\u001b[1m Month \u001b[0m\u001b[1m Production \u001b[0m\u001b[1m Inventory \u001b[0m\u001b[1m Optimal_Production_Cost \u001b[0m\u001b[1m Direct_Production_Cost \u001b[0m\u001b[1m Difference \u001b[0m\n",
      "     │\u001b[90m Int64 \u001b[0m\u001b[90m Float64    \u001b[0m\u001b[90m Float64   \u001b[0m\u001b[90m Float64                 \u001b[0m\u001b[90m Int64                  \u001b[0m\u001b[90m Float64    \u001b[0m\n",
      "─────┼───────────────────────────────────────────────────────────────────────────────────────────\n",
      "   1 │     1       205.0       25.0                  10250.0                    9000      1250.0\n",
      "   2 │     2       225.0        0.0                  10125.0                   11250     -1125.0\n",
      "   3 │     3       190.0        0.0                  10450.0                   10450         0.0\n",
      "   4 │     4       160.0       20.0                   8320.0                    7280      1040.0\n",
      "   5 │     5       225.0       25.0                  10800.0                   10560       240.0\n",
      "   6 │     6       225.0        0.0                  11250.0                   12500     -1250.0\n",
      "\n",
      "Total cost: $61795.0\n",
      "Naive production cost: $61040\n",
      "Cost difference: $155.0\n"
     ]
    }
   ],
   "source": [
    "status = termination_status(model)\n",
    "\n",
    "if status == MOI.OPTIMAL\n",
    "    println(\"Optimal solution found.\\n\")\n",
    "\n",
    "    production_values = collect(value.(x))\n",
    "    inventory_values = collect(value.(I))\n",
    "\n",
    "    direct_production_cost = [demand[i] * production_cost[i] for i in months] # asumiendo que se puede producir exactamente la demanda\n",
    "    optimal_production_cost = [production_values[i] * production_cost[i] for i in months]\n",
    "\n",
    "    results = DataFrame(\n",
    "        :Month => months,\n",
    "        :Production => production_values,\n",
    "        :Inventory => inventory_values,\n",
    "        :Optimal_Production_Cost =>  optimal_production_cost,\n",
    "        :Direct_Production_Cost => direct_production_cost,\n",
    "        :Difference =>   optimal_production_cost .- direct_production_cost\n",
    "    )\n",
    "\n",
    "    println(results)\n",
    "    println(\"\\nTotal cost: \\$\", objective_value(model))\n",
    "    println(\"Naive production cost: \\$\", sum(direct_production_cost))\n",
    "    println(\"Cost difference: \\$\", sum(results.Difference))\n",
    "\n",
    "else\n",
    "    println(\"Optimization was not successful. Status: \", status)\n",
    "end\n"
   ]
  },
  {
   "cell_type": "markdown",
   "metadata": {},
   "source": [
    "### Versión con restricciones enteras"
   ]
  },
  {
   "cell_type": "code",
   "execution_count": 10,
   "metadata": {},
   "outputs": [
    {
     "name": "stdout",
     "output_type": "stream",
     "text": [
      "Running HiGHS 1.7.2 (git hash: 5ce7a2753): Copyright (c) 2024 HiGHS under MIT licence terms\n",
      "Coefficient ranges:\n",
      "  Matrix [1e+00, 1e+00]\n",
      "  Cost   [8e+00, 6e+01]\n",
      "  Bound  [0e+00, 0e+00]\n",
      "  RHS    [1e+02, 2e+02]\n",
      "Presolving model\n",
      "5 rows, 11 cols, 15 nonzeros  0s\n",
      "3 rows, 9 cols, 11 nonzeros  0s\n",
      "1 rows, 3 cols, 3 nonzeros  0s\n",
      "0 rows, 1 cols, 0 nonzeros  0s\n",
      "0 rows, 0 cols, 0 nonzeros  0s\n",
      "Presolve: Optimal\n",
      "\n",
      "Solving report\n",
      "  Status            Optimal\n",
      "  Primal bound      61795\n",
      "  Dual bound        61795\n",
      "  Gap               0% (tolerance: 0.01%)\n",
      "  Solution status   feasible\n",
      "                    61795 (objective)\n",
      "                    0 (bound viol.)\n",
      "                    0 (int. viol.)\n",
      "                    0 (row viol.)\n",
      "  Timing            0.00 (total)\n",
      "                    0.00 (presolve)\n",
      "                    0.00 (postsolve)\n",
      "  Nodes             0\n",
      "  LP iterations     0 (total)\n",
      "                    0 (strong br.)\n",
      "                    0 (separation)\n",
      "                    0 (heuristics)\n"
     ]
    }
   ],
   "source": [
    "model_integer = Model(HiGHS.Optimizer)\n",
    "\n",
    "@variable(model_integer, x[months] >= 0, Int)  # Producción entera en cada mes\n",
    "@variable(model_integer, I[months] >= 0, Int)  # Inventario entero al final de cada mes\n",
    "\n",
    "@constraint(model_integer, [m in months], x[m] <= capacity)\n",
    "\n",
    "@constraint(model_integer, I[1] == x[1] - demand[1])\n",
    "@constraint(model_integer, [m in 2:6], I[m] == I[m-1] + x[m] - demand[m])\n",
    "\n",
    "@objective(model_integer, Min,\n",
    "    sum(production_cost[m] * x[m] + inventory_cost[m] * I[m] for m in months)\n",
    ")\n",
    "\n",
    "optimize!(model_integer)"
   ]
  },
  {
   "cell_type": "code",
   "execution_count": 11,
   "metadata": {},
   "outputs": [
    {
     "name": "stdout",
     "output_type": "stream",
     "text": [
      "\n",
      "Solución óptima encontrada (Variables Enteras).\n",
      "\n",
      "\u001b[1m6×5 DataFrame\u001b[0m\n",
      "\u001b[1m Row \u001b[0m│\u001b[1m Month \u001b[0m\u001b[1m Production \u001b[0m\u001b[1m Inventory \u001b[0m\u001b[1m Optimal_Production_Cost \u001b[0m\u001b[1m Direct_Production_Cost \u001b[0m\n",
      "     │\u001b[90m Int64 \u001b[0m\u001b[90m Float64    \u001b[0m\u001b[90m Float64   \u001b[0m\u001b[90m Float64                 \u001b[0m\u001b[90m Int64                  \u001b[0m\n",
      "─────┼───────────────────────────────────────────────────────────────────────────────\n",
      "   1 │     1       205.0       25.0                  10250.0                    9000\n",
      "   2 │     2       225.0        0.0                  10125.0                   11250\n",
      "   3 │     3       190.0        0.0                  10450.0                   10450\n",
      "   4 │     4       160.0       20.0                   8320.0                    7280\n",
      "   5 │     5       225.0       25.0                  10800.0                   10560\n",
      "   6 │     6       225.0        0.0                  11250.0                   12500\n",
      "\n",
      "Total cost: $61795.0\n",
      "Naive production cost: $61040\n",
      "Cost difference: $155.0\n",
      "\n",
      "\u001b[1m6×5 DataFrame\u001b[0m\n",
      "\u001b[1m Row \u001b[0m│\u001b[1m Month \u001b[0m\u001b[1m Production \u001b[0m\u001b[1m Inventory \u001b[0m\u001b[1m Optimal_Production_Cost \u001b[0m\u001b[1m Direct_Production_Cost \u001b[0m\n",
      "     │\u001b[90m Int64 \u001b[0m\u001b[90m Float64    \u001b[0m\u001b[90m Float64   \u001b[0m\u001b[90m Float64                 \u001b[0m\u001b[90m Int64                  \u001b[0m\n",
      "─────┼───────────────────────────────────────────────────────────────────────────────\n",
      "   1 │     1       205.0       25.0                  10250.0                    9000\n",
      "   2 │     2       225.0        0.0                  10125.0                   11250\n",
      "   3 │     3       190.0        0.0                  10450.0                   10450\n",
      "   4 │     4       160.0       20.0                   8320.0                    7280\n",
      "   5 │     5       225.0       25.0                  10800.0                   10560\n",
      "   6 │     6       225.0        0.0                  11250.0                   12500\n",
      "\n",
      "Total cost: $61795.0\n",
      "Naive production cost: $61040\n",
      "Cost difference: $155.0\n"
     ]
    }
   ],
   "source": [
    "status_integer = termination_status(model_integer)\n",
    "\n",
    "if status_integer == MOI.OPTIMAL\n",
    "    println(\"\\nSolución óptima encontrada (Variables Enteras).\\n\")\n",
    "\n",
    "    production_values_int = [value(x[m]) for m in months]\n",
    "    inventory_values_int = [value(I[m]) for m in months]\n",
    "\n",
    "    direct_production_cost_int = demand .* production_cost\n",
    "\n",
    "    results_integer = DataFrame(\n",
    "        Month = collect(months),\n",
    "        Production = production_values_int,\n",
    "        Inventory = inventory_values_int,\n",
    "        Optimal_Production_Cost = production_values_int .* production_cost,\n",
    "        Direct_Production_Cost = direct_production_cost_int\n",
    "    )\n",
    "\n",
    "    println(results_integer)\n",
    "    println(\"\\nTotal cost: \\$\", objective_value(model))\n",
    "    println(\"Naive production cost: \\$\", sum(direct_production_cost))\n",
    "    println(\"Cost difference: \\$\", sum(results.Difference))\n",
    "\n",
    "else\n",
    "    println(\"La optimización no fue exitosa (Entero). Estado: \", status_integer)\n",
    "end"
   ]
  },
  {
   "cell_type": "markdown",
   "metadata": {},
   "source": [
    "# 3. (Modelo de asignación de horarios)"
   ]
  },
  {
   "cell_type": "code",
   "execution_count": 13,
   "metadata": {},
   "outputs": [
    {
     "name": "stderr",
     "output_type": "stream",
     "text": [
      "\u001b[32m\u001b[1m   Resolving\u001b[22m\u001b[39m package versions...\n",
      "\u001b[32m\u001b[1m   Installed\u001b[22m\u001b[39m GLPK_jll ─ v5.0.1+0\n",
      "\u001b[32m\u001b[1m   Installed\u001b[22m\u001b[39m GLPK ───── v1.2.1\n",
      "\u001b[32m\u001b[1m    Updating\u001b[22m\u001b[39m `C:\\Users\\chama\\.julia\\environments\\v1.10\\Project.toml`\n",
      "  \u001b[90m[60bf3e95] \u001b[39m\u001b[92m+ GLPK v1.2.1\u001b[39m\n",
      "\u001b[32m\u001b[1m    Updating\u001b[22m\u001b[39m `C:\\Users\\chama\\.julia\\environments\\v1.10\\Manifest.toml`\n",
      "  \u001b[90m[60bf3e95] \u001b[39m\u001b[92m+ GLPK v1.2.1\u001b[39m\n",
      "  \u001b[90m[e8aa6df9] \u001b[39m\u001b[92m+ GLPK_jll v5.0.1+0\u001b[39m\n",
      "  \u001b[90m[781609d7] \u001b[39m\u001b[92m+ GMP_jll v6.2.1+6\u001b[39m\n",
      "\u001b[32m\u001b[1mPrecompiling\u001b[22m\u001b[39m project...\n",
      "\u001b[32m  ✓ \u001b[39m\u001b[90mGLPK_jll\u001b[39m\n",
      "\u001b[32m  ✓ \u001b[39mGLPK\n",
      "  2 dependencies successfully precompiled in 8 seconds. 280 already precompiled.\n"
     ]
    }
   ],
   "source": [
    "import Pkg; Pkg.add(\"GLPK\")"
   ]
  },
  {
   "cell_type": "code",
   "execution_count": 16,
   "metadata": {},
   "outputs": [
    {
     "name": "stdout",
     "output_type": "stream",
     "text": [
      "Número óptimo de autobuses para cada turno: [4.0, 4.0, 6.0, 8.0, 4.0, 0.0]\n",
      "Número total mínimo de autobuses: 26.0\n"
     ]
    }
   ],
   "source": [
    "using JuMP, GLPK\n",
    "\n",
    "# Create a model\n",
    "model = Model(GLPK.Optimizer)\n",
    "\n",
    "# Define variables\n",
    "@variable(model, x[1:6] >= 0)\n",
    "\n",
    "# Objective function: Minimize the total number of buses\n",
    "@objective(model, Min, sum(x[i] for i in 1:6))\n",
    "\n",
    "# Constraints\n",
    "@constraint(model, x[1] + x[6] >= 4)    # 12:00 AM - 4:00 AM\n",
    "@constraint(model, x[1] + x[2] >= 8) # 4:00 AM - 8:00 AM\n",
    "@constraint(model, x[2] + x[3] >= 10) # 8:00 AM - 12:00 PM\n",
    "@constraint(model, x[3] + x[4] >= 7)  # 12:00 PM - 4:00 PM\n",
    "@constraint(model, x[4] + x[5] >= 12) # 4:00 PM - 8:00 PM\n",
    "@constraint(model, x[5] + x[6] >= 4)  # 8:00 PM - 12:00 AM\n",
    "\n",
    "# Solve the model\n",
    "optimize!(model)\n",
    "\n",
    "# Print the results\n",
    "optimal_buses = value.(x)\n",
    "optimal_total = objective_value(model)\n",
    "\n",
    "println(\"Número óptimo de autobuses para cada turno: \", optimal_buses)\n",
    "println(\"Número total mínimo de autobuses: \", optimal_total)\n"
   ]
  }
 ],
 "metadata": {
  "kernelspec": {
   "display_name": "Julia 1.10.4",
   "language": "julia",
   "name": "julia-1.10"
  },
  "language_info": {
   "file_extension": ".jl",
   "mimetype": "application/julia",
   "name": "julia",
   "version": "1.10.4"
  }
 },
 "nbformat": 4,
 "nbformat_minor": 2
}
